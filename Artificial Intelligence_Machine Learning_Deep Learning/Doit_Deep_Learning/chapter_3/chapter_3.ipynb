{
  "nbformat": 4,
  "nbformat_minor": 0,
  "metadata": {
    "colab": {
      "name": "chapter_3.ipynb",
      "provenance": [],
      "collapsed_sections": []
    },
    "kernelspec": {
      "name": "python3",
      "display_name": "Python 3"
    },
    "accelerator": "GPU"
  },
  "cells": [
    {
      "cell_type": "code",
      "metadata": {
        "id": "FP3z6CfUjn_e",
        "colab_type": "code",
        "colab": {}
      },
      "source": [
        "from google.colab import drive\n",
        "drive.mount('/content/gdrive/')"
      ],
      "execution_count": 0,
      "outputs": []
    },
    {
      "cell_type": "markdown",
      "metadata": {
        "id": "QipYn4_KnUBr",
        "colab_type": "text"
      },
      "source": [
        "#chapter3-1 문제 해결을 위해 당뇨병 환자의 데이터 준비하기\n",
        " 당뇨병환자의 1년후 병의 진전된 정도를 예측"
      ]
    },
    {
      "cell_type": "code",
      "metadata": {
        "id": "cB2u1MuJjdFp",
        "colab_type": "code",
        "colab": {}
      },
      "source": [
        "from sklearn.datasets import load_diabetes\n",
        "# Bunch클래스로 데이터가 들어있는데 파이썬의 딕셔너리와 비슷하며 특별한 기능은 없다..\n",
        "diabetes = load_diabetes()          "
      ],
      "execution_count": 0,
      "outputs": []
    },
    {
      "cell_type": "code",
      "metadata": {
        "id": "uu3RwRfIk0RL",
        "colab_type": "code",
        "outputId": "4f9e96bd-d5b1-444f-d56e-418ba027e1c0",
        "colab": {
          "base_uri": "https://localhost:8080/",
          "height": 34
        }
      },
      "source": [
        "# data는 입력, target은 타깃 데이터\n",
        "print(diabetes.data.shape, diabetes.target.shape)"
      ],
      "execution_count": 0,
      "outputs": [
        {
          "output_type": "stream",
          "text": [
            "(442, 10) (442,)\n"
          ],
          "name": "stdout"
        }
      ]
    },
    {
      "cell_type": "markdown",
      "metadata": {
        "id": "Ct1I6LbSnisM",
        "colab_type": "text"
      },
      "source": [
        "* 행은 샘플(당뇨병 환자에 대한 특성으로 이루어진 데이터 1세트), 열은 특성(당뇨병 데이터의 여러 특징들 --> 혈압 몸무게 키 등등)\n",
        "* 입력 데이터의 수치를 자세히 아는것보다는 입력과 타겟사이에 규칙(모델)을 찾으면 된다.\n",
        "* 입력 데이터가 의미하는것이 매우 중요할 수 있으므로 이는 해당분야 전문사의 도움을 받는다."
      ]
    },
    {
      "cell_type": "code",
      "metadata": {
        "id": "3gky_HJum6aY",
        "colab_type": "code",
        "outputId": "2a7ddf48-26dc-47fc-bfd9-60b95132b123",
        "colab": {
          "base_uri": "https://localhost:8080/",
          "height": 119
        }
      },
      "source": [
        "diabetes.data[0:3]"
      ],
      "execution_count": 0,
      "outputs": [
        {
          "output_type": "execute_result",
          "data": {
            "text/plain": [
              "array([[ 0.03807591,  0.05068012,  0.06169621,  0.02187235, -0.0442235 ,\n",
              "        -0.03482076, -0.04340085, -0.00259226,  0.01990842, -0.01764613],\n",
              "       [-0.00188202, -0.04464164, -0.05147406, -0.02632783, -0.00844872,\n",
              "        -0.01916334,  0.07441156, -0.03949338, -0.06832974, -0.09220405],\n",
              "       [ 0.08529891,  0.05068012,  0.04445121, -0.00567061, -0.04559945,\n",
              "        -0.03419447, -0.03235593, -0.00259226,  0.00286377, -0.02593034]])"
            ]
          },
          "metadata": {
            "tags": []
          },
          "execution_count": 5
        }
      ]
    },
    {
      "cell_type": "code",
      "metadata": {
        "id": "1-_nIPDHn4jr",
        "colab_type": "code",
        "outputId": "0c86804b-aeb5-4716-9b7d-e48ffa81e37c",
        "colab": {
          "base_uri": "https://localhost:8080/",
          "height": 34
        }
      },
      "source": [
        "diabetes.target[:3]"
      ],
      "execution_count": 0,
      "outputs": [
        {
          "output_type": "execute_result",
          "data": {
            "text/plain": [
              "array([151.,  75., 141.])"
            ]
          },
          "metadata": {
            "tags": []
          },
          "execution_count": 6
        }
      ]
    },
    {
      "cell_type": "markdown",
      "metadata": {
        "id": "yK-QWnnnnqTe",
        "colab_type": "text"
      },
      "source": [
        "# matplotlib scatter함수로 산점도 그리기"
      ]
    },
    {
      "cell_type": "code",
      "metadata": {
        "id": "j5xG-Y0YoCUe",
        "colab_type": "code",
        "outputId": "30a96d1d-8900-4acb-a267-b63a99a34b59",
        "colab": {
          "base_uri": "https://localhost:8080/",
          "height": 279
        }
      },
      "source": [
        "import matplotlib.pyplot as plt\n",
        "plt.scatter(diabetes.data[:,2], diabetes.target)\n",
        "plt.xlabel('x')\n",
        "plt.ylabel('y')\n",
        "plt.show()"
      ],
      "execution_count": 0,
      "outputs": [
        {
          "output_type": "display_data",
          "data": {
            "image/png": "[encoded data removed]",
            "text/plain": [
              "<Figure size 432x288 with 1 Axes>"
            ]
          },
          "metadata": {
            "tags": []
          }
        }
      ]
    },
    {
      "cell_type": "code",
      "metadata": {
        "id": "X-8_Wup8tFwR",
        "colab_type": "code",
        "colab": {}
      },
      "source": [
        "# 입력 데이터의 세번째 특성을 미리 분리\n",
        "x = diabetes.data[:,2]\n",
        "y = diabetes.target"
      ],
      "execution_count": 0,
      "outputs": []
    },
    {
      "cell_type": "markdown",
      "metadata": {
        "id": "Lg2YeX8Unxxq",
        "colab_type": "text"
      },
      "source": [
        "# chapter3-2 경사 하강법으로 학습하는 방법\n",
        "* 여러가지 특성을 사용하면 높은 차원에서의 초평면을 그려야 한다\n",
        "* 여러가지 초평면을 생각하는 것은 힘들며 따라서 특성을 1개 또는 2개를 사용하여 2차원 \n",
        "* 또는 3차원의 그래프를 다룬다.\n",
        "* 낮은 차원에서 얻은 직관은 높은 차원으로 확장이 가능한 경우가 있다.\n",
        "* 선형 회귀의 목표는 x,y값이 주어지면 기울기와 절편을 구하는 것이다.\n",
        "* 즉, 산점도 그래프를 잘 표현하는 직선의 방정식을 찾는 것이다.\n",
        "* 경사하강법(gradient descent) : 모델이 데이터를 잘 표현할 수 있도록 기울기(변화량)을 사용하여\n",
        "* 모델을 조금씩 조정하는 최적화 알고리즘\n",
        "* ŷ = ωx + b --> a는 가중치를 의미하는 ω또는 계수를 의미하는 θ로 나타내며 y는 ŷ으로 나타낸다\n",
        "* 가중치와 절편(ω, b)는 알고리즘이 찾은 규칙을 의미하며, ŷ은 예측값을 의미한다.\n",
        "\n"
      ]
    },
    {
      "cell_type": "markdown",
      "metadata": {
        "id": "HINXF024oCNb",
        "colab_type": "text"
      },
      "source": [
        "# 훈련데이터에 맞는 w와 b찾기\n",
        " 1. 무작위로 w와 b를 정한다 (무작위로 모델 찾기)\n",
        " 2. x에거 샘플을 하나꺼내 ŷ을 계산한다\n",
        " 3. ŷ과 실제 y값을 비교한다\n",
        " 4. ŷ이 y와 가까워지도록 w와 b를 조정한다\n",
        " 5. 모든 샘플을 처리할 때까지 2~4반복한다"
      ]
    },
    {
      "cell_type": "code",
      "metadata": {
        "id": "uE3_D9zWqZ3e",
        "colab_type": "code",
        "outputId": "8029ca1e-779a-48a9-c5e1-6165ff0af753",
        "colab": {
          "base_uri": "https://localhost:8080/",
          "height": 51
        }
      },
      "source": [
        "w = 1.0\n",
        "b = 1.0\n",
        "\n",
        "y_hat = x[0]*w+b\n",
        "print(y_hat)\n",
        "print(y[0])"
      ],
      "execution_count": 0,
      "outputs": [
        {
          "output_type": "stream",
          "text": [
            "1.0616962065186886\n",
            "151.0\n"
          ],
          "name": "stdout"
        }
      ]
    },
    {
      "cell_type": "code",
      "metadata": {
        "id": "FQLox7X0rXST",
        "colab_type": "code",
        "outputId": "da4a700d-3ce8-4886-c925-9c4bea58fd24",
        "colab": {
          "base_uri": "https://localhost:8080/",
          "height": 34
        }
      },
      "source": [
        "w_inc = w+0.1\n",
        "y_hat_inc = x[0]*w_inc + b\n",
        "print(y_hat_inc)"
      ],
      "execution_count": 0,
      "outputs": [
        {
          "output_type": "stream",
          "text": [
            "1.0678658271705574\n"
          ],
          "name": "stdout"
        }
      ]
    },
    {
      "cell_type": "markdown",
      "metadata": {
        "id": "VavkZyM7oGE5",
        "colab_type": "text"
      },
      "source": [
        " ω를 0.1 증가시켰을때 훈련데이터 x[0]에대한 w의 변화율을 구한다.\n",
        " 변화율은 x[0]와 동일하게 나온다."
      ]
    },
    {
      "cell_type": "code",
      "metadata": {
        "id": "QdC9abJXrr9r",
        "colab_type": "code",
        "outputId": "86801902-5a5e-4ac6-a10e-625d7e88e5d8",
        "colab": {
          "base_uri": "https://localhost:8080/",
          "height": 34
        }
      },
      "source": [
        "w_rate = (y_hat_inc - y_hat)/(w_inc-w)\n",
        "print(w_rate)"
      ],
      "execution_count": 0,
      "outputs": [
        {
          "output_type": "stream",
          "text": [
            "0.061696206518688734\n"
          ],
          "name": "stdout"
        }
      ]
    },
    {
      "cell_type": "markdown",
      "metadata": {
        "id": "cPoDMvD2oMXZ",
        "colab_type": "text"
      },
      "source": [
        "# 변화율이 양수일때 가중치 업데이트 하는 방법\n",
        "*  변화율이 0보다 큰 경우 y_hat이 증가하려면 w가 증가해야한다.\n",
        "*  즉, 변화율이 양수인 점을 이용하여 변화율을 w에 더하는 방법으로 w를 증가시킬 수 있다.\n"
      ]
    },
    {
      "cell_type": "markdown",
      "metadata": {
        "id": "trGPUmSWocTT",
        "colab_type": "text"
      },
      "source": [
        "# 변화율이 음수일떄 가중치 업데이트 하는 방법\n",
        "*  w가 감소하면 h_hat은 증가한다\n",
        "*  즉, 변화율이 음수인 점을 이용하여 변화율을 더하는 방법으로 y_hat을 증가시킬 수 있다.\n",
        "* 두 방법의 문제점은 y_hat이 y에 비해 너무 작은 값이면 큰 폭으로 w와 b를 증가시킬 수 없으며,\n",
        "* y_hat이 y보다 커지면 y_hat을 감소시키지 못한다"
      ]
    },
    {
      "cell_type": "code",
      "metadata": {
        "id": "PSDINGmMsCZV",
        "colab_type": "code",
        "outputId": "bac4a66e-a119-4339-e9f9-29a9a400f960",
        "colab": {
          "base_uri": "https://localhost:8080/",
          "height": 34
        }
      },
      "source": [
        "w_new = w+w_rate\n",
        "print(w_new)"
      ],
      "execution_count": 0,
      "outputs": [
        {
          "output_type": "stream",
          "text": [
            "1.0616962065186888\n"
          ],
          "name": "stdout"
        }
      ]
    },
    {
      "cell_type": "code",
      "metadata": {
        "id": "AWFtF476u9p8",
        "colab_type": "code",
        "outputId": "677f46bc-e534-4f56-b4de-144b0807a5e4",
        "colab": {
          "base_uri": "https://localhost:8080/",
          "height": 51
        }
      },
      "source": [
        "b_inc = b+0.1\n",
        "y_hat_inc = x[0]*w+b_inc\n",
        "print(y_hat_inc)\n",
        "\n",
        "b_rate = (y_hat_inc - y_hat)/(b_inc-b)\n",
        "print(b_rate)"
      ],
      "execution_count": 0,
      "outputs": [
        {
          "output_type": "stream",
          "text": [
            "1.1616962065186887\n",
            "1.0\n"
          ],
          "name": "stdout"
        }
      ]
    },
    {
      "cell_type": "code",
      "metadata": {
        "id": "PHYRLuorvksU",
        "colab_type": "code",
        "outputId": "d3a0e2cd-84bf-4ace-f4a1-ef1f26776e3d",
        "colab": {
          "base_uri": "https://localhost:8080/",
          "height": 34
        }
      },
      "source": [
        "b_new = b+1\n",
        "print(b_new)"
      ],
      "execution_count": 0,
      "outputs": [
        {
          "output_type": "stream",
          "text": [
            "2.0\n"
          ],
          "name": "stdout"
        }
      ]
    },
    {
      "cell_type": "markdown",
      "metadata": {
        "id": "XZhcB4zEolu1",
        "colab_type": "text"
      },
      "source": [
        "# 오차 역전파로 가중치와 절편 업데이트\n",
        "* y에서 y_hat을 뺀 오차의 양을 곱하는 방법으로 w를 업데이트 한다면, y_hat이 y보다 많이 작을 경우\n",
        "* 변화량의 크기를 크게 할 수 있고 y_hat이 y를 지나칠 경우 w와 b의 방향도 바꿀 수 있다.\n",
        "\n",
        "# 오차와 변화율을 곱해서 가중치 업데이트 하기"
      ]
    },
    {
      "cell_type": "code",
      "metadata": {
        "id": "vJ5STxTFv0Id",
        "colab_type": "code",
        "outputId": "0b084e1d-e76b-40d9-daa1-58a15dbf09a2",
        "colab": {
          "base_uri": "https://localhost:8080/",
          "height": 34
        }
      },
      "source": [
        "err=y[0]-y_hat\n",
        "w_new = w+w_rate*err\n",
        "b_new = b+1*err\n",
        "print(w_new, b_new)"
      ],
      "execution_count": 0,
      "outputs": [
        {
          "output_type": "stream",
          "text": [
            "10.250624555904514 150.9383037934813\n"
          ],
          "name": "stdout"
        }
      ]
    },
    {
      "cell_type": "markdown",
      "metadata": {
        "id": "2lFCJ-I0ouxt",
        "colab_type": "text"
      },
      "source": [
        "* 두 번째 샘플을 사용하여 오차를 구하고 새로운 w와 b를 구한다.\n",
        "* w_rate는 x[1]이 된다."
      ]
    },
    {
      "cell_type": "code",
      "metadata": {
        "id": "gO02DvscQBUT",
        "colab_type": "code",
        "colab": {}
      },
      "source": [
        "y_hat = x[1]*w_new + b_new\n",
        "err = y[1]-y_hat\n",
        "w_rate=x[1]\n",
        "w_new=w_new+w_rate*err\n",
        "b_new=b_new+1*err"
      ],
      "execution_count": 0,
      "outputs": []
    },
    {
      "cell_type": "code",
      "metadata": {
        "id": "C00v3-VQQ94O",
        "colab_type": "code",
        "outputId": "cfb1970c-bd2d-4594-a5d4-904b72ed1329",
        "colab": {
          "base_uri": "https://localhost:8080/",
          "height": 34
        }
      },
      "source": [
        "print(w_new, b_new)"
      ],
      "execution_count": 0,
      "outputs": [
        {
          "output_type": "stream",
          "text": [
            "14.132317616381767 75.52764127612664\n"
          ],
          "name": "stdout"
        }
      ]
    },
    {
      "cell_type": "markdown",
      "metadata": {
        "id": "TjwkqvkcoyLO",
        "colab_type": "text"
      },
      "source": [
        "# 전체 샘플 업데이트 하기\n",
        "* zip()은 여러개의 배열에서 동시에 원소를 하니씩 꺼내준다."
      ]
    },
    {
      "cell_type": "code",
      "metadata": {
        "id": "VqN7RN0bRDuK",
        "colab_type": "code",
        "outputId": "49677e3c-70ab-4333-dbb6-e8d55ba4253f",
        "colab": {
          "base_uri": "https://localhost:8080/",
          "height": 34
        }
      },
      "source": [
        "for x_i, y_i in zip(x,y):\n",
        "  y_hat = x_i*w+b\n",
        "  err=y_i-y_hat\n",
        "  w_rate=x_i\n",
        "  w=w+w_rate*err\n",
        "  b=b+1*err\n",
        "print(w,b)"
      ],
      "execution_count": 0,
      "outputs": [
        {
          "output_type": "stream",
          "text": [
            "587.8654539985689 99.40935564531424\n"
          ],
          "name": "stdout"
        }
      ]
    },
    {
      "cell_type": "markdown",
      "metadata": {
        "id": "D8__TE2to19A",
        "colab_type": "text"
      },
      "source": [
        "* plt에서 직선을 그리려면 시작점과 종료점의 x,y좌표를 plot()함수에 전달하면 된다."
      ]
    },
    {
      "cell_type": "code",
      "metadata": {
        "id": "a_6PxSRmRhId",
        "colab_type": "code",
        "outputId": "45154ce5-a702-4bf8-bffa-42718e3747e6",
        "colab": {
          "base_uri": "https://localhost:8080/",
          "height": 279
        }
      },
      "source": [
        "plt.scatter(x,y)\n",
        "pt1=(-0.1,-0.1*w+b)\n",
        "pt2=(0.15,0.15*w+b)\n",
        "plt.plot([pt1[0],pt2[0]], [pt1[1], pt2[1]])\n",
        "plt.xlabel('x')\n",
        "plt.ylabel('y')\n",
        "plt.show()"
      ],
      "execution_count": 0,
      "outputs": [
        {
          "output_type": "display_data",
          "data": {
            "image/png": "[encoded data removed]",
            "text/plain": [
              "<Figure size 432x288 with 1 Axes>"
            ]
          },
          "metadata": {
            "tags": []
          }
        }
      ]
    },
    {
      "cell_type": "markdown",
      "metadata": {
        "id": "OYCn5w_0o41_",
        "colab_type": "text"
      },
      "source": [
        "* 여러 에포크를 반복하며 직선의 위치를 잡는다."
      ]
    },
    {
      "cell_type": "code",
      "metadata": {
        "id": "KpJmM1laSl_Q",
        "colab_type": "code",
        "outputId": "1b472fb7-cdf7-45f5-b03d-24470a5da557",
        "colab": {
          "base_uri": "https://localhost:8080/",
          "height": 34
        }
      },
      "source": [
        "for i in range(1,100):\n",
        "  for x_i, y_i in zip(x,y):\n",
        "    y_hat = x_i*w+b\n",
        "    err=y_i-y_hat\n",
        "    w_rate=x_i\n",
        "    w=w+w_rate*err\n",
        "    b=b+1*err\n",
        "print(w,b)"
      ],
      "execution_count": 0,
      "outputs": [
        {
          "output_type": "stream",
          "text": [
            "913.5973364345905 123.39414383177204\n"
          ],
          "name": "stdout"
        }
      ]
    },
    {
      "cell_type": "code",
      "metadata": {
        "id": "3p6clwXmTbam",
        "colab_type": "code",
        "outputId": "27926ebf-dfca-4f23-b2d5-80bd75f35e6f",
        "colab": {
          "base_uri": "https://localhost:8080/",
          "height": 279
        }
      },
      "source": [
        "plt.scatter(x,y)\n",
        "pt1=(-0.1,-0.1*w+b)\n",
        "pt2=(0.15,0.15*w+b)\n",
        "plt.plot([pt1[0],pt2[0]], [pt1[1], pt2[1]])\n",
        "plt.xlabel('x')\n",
        "plt.ylabel('y')\n",
        "plt.show()"
      ],
      "execution_count": 0,
      "outputs": [
        {
          "output_type": "display_data",
          "data": {
            "image/png": "[encoded data removed]",
            "text/plain": [
              "<Figure size 432x288 with 1 Axes>"
            ]
          },
          "metadata": {
            "tags": []
          }
        }
      ]
    },
    {
      "cell_type": "markdown",
      "metadata": {
        "id": "4WI-Cusjo7p0",
        "colab_type": "text"
      },
      "source": [
        "* 모델의 예측은 주어진 x값을 모델에 입력해보고 나오는 값을 확인한다"
      ]
    },
    {
      "cell_type": "code",
      "metadata": {
        "id": "tgTSm-pZTiXK",
        "colab_type": "code",
        "outputId": "b1c6d6c4-13b4-4928-c143-ee85bc3b2cab",
        "colab": {
          "base_uri": "https://localhost:8080/",
          "height": 34
        }
      },
      "source": [
        "x_new = 0.18\n",
        "y_pred=x_new*w+b\n",
        "print(y_pred)"
      ],
      "execution_count": 0,
      "outputs": [
        {
          "output_type": "stream",
          "text": [
            "287.8416643899983\n"
          ],
          "name": "stdout"
        }
      ]
    },
    {
      "cell_type": "code",
      "metadata": {
        "id": "i-NAq3NwT0c_",
        "colab_type": "code",
        "outputId": "3fd73b09-7e5f-479d-d1e5-dd4a1e3802b5",
        "colab": {
          "base_uri": "https://localhost:8080/",
          "height": 279
        }
      },
      "source": [
        "plt.scatter(x,y)\n",
        "plt.scatter(x_new, y_pred)\n",
        "pt1=(-0.1,-0.1*w+b)\n",
        "pt2=(0.15,0.15*w+b)\n",
        "plt.plot([pt1[0],pt2[0]], [pt1[1], pt2[1]])\n",
        "plt.xlabel('x')\n",
        "plt.ylabel('y')\n",
        "plt.show()"
      ],
      "execution_count": 0,
      "outputs": [
        {
          "output_type": "display_data",
          "data": {
            "image/png": "[encoded data removed]",
            "text/plain": [
              "<Figure size 432x288 with 1 Axes>"
            ]
          },
          "metadata": {
            "tags": []
          }
        }
      ]
    },
    {
      "cell_type": "markdown",
      "metadata": {
        "id": "Kdi_jx8Jo-g1",
        "colab_type": "text"
      },
      "source": [
        "# 경사하강법\n",
        "* 어떤 손실함수(loss function)이 정의되있을때 손실함수의 값이 최소가 되는 지점을 찾는 방법\n",
        "\n",
        "# 손실함수\n",
        "* 예상한 값과 실제 타깃값의 차이를 함수로 정의한 것을 말한다\n",
        "* 이전에 사용한 오차를 변화율에 곱하여 가중치와 절편을 업데이트 하는것은 '제곱 오차'라는 손실함수를 미분한 것이다.\n",
        "\n",
        "# 제곱 오차(squared error)\n",
        "* 타깃과 예측값을 뺀 다음 제곱한 것\n",
        "* 제곱 오차가 최소가 되면 산점도 그래프를 가장 잘 표현한 직선이 그려진다\n",
        "* 제곱 오차 함수의 최솟값을 알아내려면, 기울기에 따라 함수의 값이 낮은 쪽으로 이동해야 한다.\n",
        "* 기울기를 구하려면 제곱 오차를 가중치나 절편에 대해 미분해야 한다.\n",
        "\n",
        "* w에서 변화율을 더하지 않고 빼는 이유는 손실 함수의 낮은 쪽으로 이동하고 싶기 때문이다.\n",
        "* 오차 역전파에서 적용하였던 수식(w + w_rate*err)은 제곱 오차를 미분한 것과 같다.\n"
      ]
    },
    {
      "cell_type": "code",
      "metadata": {
        "id": "QwHvU0AcT-1Z",
        "colab_type": "code",
        "colab": {}
      },
      "source": [
        "y_hat = x_i*w+b\n",
        "err=y_i-y_hat\n",
        "w_rate=x_i\n",
        "w=w+w_rate*err"
      ],
      "execution_count": 0,
      "outputs": []
    },
    {
      "cell_type": "code",
      "metadata": {
        "id": "yDUnGOhqxcM5",
        "colab_type": "code",
        "colab": {}
      },
      "source": [
        "# 절편에 대하여 제곱 오차 미분또한 식은 위와 비슷하다\n",
        "err=y_i-y_hat\n",
        "b=b+1*err"
      ],
      "execution_count": 0,
      "outputs": []
    },
    {
      "cell_type": "markdown",
      "metadata": {
        "id": "sPezQssNpOFL",
        "colab_type": "text"
      },
      "source": [
        "* 손실 함수에 대해 일일이 변화율을 계산하는 것이 아니라 편미분을 사용하여 변화율을 계산한다.\n",
        "* 변화율은 인공지능 분야에서 그레디언트(gradient)라고 부른다."
      ]
    },
    {
      "cell_type": "code",
      "metadata": {
        "id": "UaDtrCLQqcls",
        "colab_type": "code",
        "colab": {}
      },
      "source": [
        "class Neuron:\n",
        "  def __init__(self):\n",
        "  # 초기 작업 실행\n",
        "    self.w=1.0\n",
        "    self.b=1.0\n",
        "\n",
        "  # 필요한 메서드 추가\n",
        "  def forpass(self, x):\n",
        "    y_hat = x*self.w + self.b\n",
        "    return y_hat\n",
        "\n",
        "  def backpass(self, x,err):\n",
        "    w_grad=x*err\n",
        "    b_grad=1*err\n",
        "    return w_grad, b_grad\n",
        "  \n",
        "  def fit(self, x, y, epochs=100):\n",
        "    for i in range(epochs):\n",
        "      for x_i, y_i in zip(x,y):\n",
        "        y_hat = self.forpass(x_i)\n",
        "        err=-(y_i - y_hat)\n",
        "        w_grad, b_grad = self.backpass(x_i,err)\n",
        "        self.w-=w_grad\n",
        "        self.b-=b_grad\n"
      ],
      "execution_count": 0,
      "outputs": []
    },
    {
      "cell_type": "code",
      "metadata": {
        "id": "DsNE_KGYrt8_",
        "colab_type": "code",
        "colab": {}
      },
      "source": [
        "neuron=Neuron()\n",
        "neuron.fit(x,y)"
      ],
      "execution_count": 0,
      "outputs": []
    },
    {
      "cell_type": "code",
      "metadata": {
        "id": "U4ul0gPeg71D",
        "colab_type": "code",
        "outputId": "7a42fa4f-1cb1-4ee4-ebc1-b894faadb30e",
        "colab": {
          "base_uri": "https://localhost:8080/",
          "height": 279
        }
      },
      "source": [
        "plt.scatter(x,y)\n",
        "pt1=(-0.1,-0.1*neuron.w + neuron.b)\n",
        "pt2=(0.15,0.15*neuron.w + neuron.b)\n",
        "plt.plot([pt1[0],pt2[0]],[pt1[1],pt2[1]])\n",
        "plt.xlabel('x')\n",
        "plt.ylabel('y')\n",
        "plt.show()"
      ],
      "execution_count": 0,
      "outputs": [
        {
          "output_type": "display_data",
          "data": {
            "image/png": "[encoded data removed]",
            "text/plain": [
              "<Figure size 432x288 with 1 Axes>"
            ]
          },
          "metadata": {
            "tags": []
          }
        }
      ]
    },
    {
      "cell_type": "code",
      "metadata": {
        "id": "FGnc_Tm8hiDL",
        "colab_type": "code",
        "colab": {}
      },
      "source": [
        ""
      ],
      "execution_count": 0,
      "outputs": []
    }
  ]
}