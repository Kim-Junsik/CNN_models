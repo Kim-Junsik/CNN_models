{
  "nbformat": 4,
  "nbformat_minor": 0,
  "metadata": {
    "colab": {
      "name": "chapter_5.ipynb",
      "provenance": [],
      "collapsed_sections": []
    },
    "kernelspec": {
      "name": "python3",
      "display_name": "Python 3"
    },
    "accelerator": "GPU"
  },
  "cells": [
    {
      "cell_type": "code",
      "metadata": {
        "id": "cst3cNhEx75D",
        "colab_type": "code",
        "colab": {}
      },
      "source": [
        "from google.colab import drive\n",
        "drive.mount('/content/gdrive/')"
      ],
      "execution_count": 0,
      "outputs": []
    },
    {
      "cell_type": "code",
      "metadata": {
        "id": "f9dE4yX5yF5o",
        "colab_type": "code",
        "colab": {}
      },
      "source": [
        "!pip install tensorflow-gpu==2.0.0-rc1"
      ],
      "execution_count": 0,
      "outputs": []
    },
    {
      "cell_type": "markdown",
      "metadata": {
        "id": "84rGzEMDynGX",
        "colab_type": "text"
      },
      "source": [
        "# 검증 세트 나누고 전처리 과정 배우기  \n",
        "  \n",
        "## 하이퍼 파라미터(Hyperparameter)\n",
        "* 매개변수의 값은 가중치나 절편처럼 알아서 학습되는 것이 아니라 사용자가 직접 선택하는 것이다. 이러한 사용자가 직접 설정하는 값을 하이퍼 파라미터 라고 한다.\n",
        "\n",
        "## SVM(Support Vertor Machine:선형 서포트 벡터 머신)\n",
        "* 훈련데이터의 클래스를 구분하는 경계선을 찾는 작업\n",
        "\n",
        "## 모델 튜닝\n",
        "* 성능에 만족을 걷기 위해서 매개변수의 값을 바꾸는 것\n",
        "\n",
        "## 테스트 세트\n",
        "* 실전에 투입된 모델의 성능을 측정하기 위해 서용\n",
        "* 테스트 세트로 모델을 튜닝하면, 테스트 세트에 대해서만 좋은 성능을 내는 모델이 만들어 질 수 있다\n",
        "* 이를 '테스트 세트의 정보가 모델에 새어 나갔다' 고 한다. 즉, 모델의 일반화 성능(generalization performance)이 왜곡된다.\n",
        "* 테스트 세트는 모델 튜닝을 모두 마치고 마지막에 한번만 하는것이 좋다\n",
        "\n",
        "## 검증 세트(Validation set)\n",
        "* 모델을 튜닝하는 중에 성능을 확인하기 위해 필요한 데이터는 검증 세트이다.\n",
        "\n",
        "\n",
        "\n"
      ]
    },
    {
      "cell_type": "code",
      "metadata": {
        "id": "RIJEwJ9_yTFf",
        "colab_type": "code",
        "colab": {}
      },
      "source": [
        "from sklearn.datasets import load_breast_cancer\n",
        "from sklearn.model_selection import train_test_split\n",
        "from sklearn.linear_model import SGDClassifier\n",
        "import matplotlib.pyplot as plt\n",
        "import numpy as np"
      ],
      "execution_count": 0,
      "outputs": []
    },
    {
      "cell_type": "code",
      "metadata": {
        "id": "d1P7PZB5nbY9",
        "colab_type": "code",
        "colab": {}
      },
      "source": [
        "cancer = load_breast_cancer()\n",
        "x = cancer.data\n",
        "y = cancer.target\n",
        "x_train_all, x_test, y_train_all, y_test = train_test_split(x,y,stratify=y, test_size=0.2, random_state=42)"
      ],
      "execution_count": 0,
      "outputs": []
    },
    {
      "cell_type": "markdown",
      "metadata": {
        "id": "5eImb4JXlVhu",
        "colab_type": "text"
      },
      "source": [
        "* 이번 예제는 8:2로 나눈 데이터에서 다시 테스트를 8:2로 나눈다."
      ]
    },
    {
      "cell_type": "code",
      "metadata": {
        "id": "O_LHNkbJlQHq",
        "colab_type": "code",
        "outputId": "1615c874-6f44-4119-bf15-fa23c9e15685",
        "colab": {
          "base_uri": "https://localhost:8080/",
          "height": 34
        }
      },
      "source": [
        "x_train, x_val, y_train, y_val = train_test_split(x_train_all, y_train_all, stratify=y_train_all, test_size=0.2, random_state=42)\n",
        "print(len(x_train), len(x_val))"
      ],
      "execution_count": 0,
      "outputs": [
        {
          "output_type": "stream",
          "text": [
            "364 91\n"
          ],
          "name": "stdout"
        }
      ]
    },
    {
      "cell_type": "markdown",
      "metadata": {
        "id": "5IiZbMtKl4Az",
        "colab_type": "text"
      },
      "source": [
        "# 데이터가 너무 적은 경우\n",
        "* 데이터가 너무 적다면 검증 세트를 나누지 않고 교차 검증(cross validation)이라는 방법을 사용한다.\n",
        "* 일반적으로 10만개의 자료가 있다면 8:1:1로 나누며 100 만개 이상의 데이터는 98:1:1로 나눈다.\n",
        "* 검증과 테스트 세트의 샘플 수를 1만 개 이상 확보할 수 있다면 훈련 데이터에 많은 샘플을 할당 하는 것이 좋다.\n",
        "\n",
        "# 데이터 전처리(data preprocessing)\n",
        "* 잘 정리된 데이터도 전처리가 필요한 경우가 있는데 이는 데이터 특성의 스케일이 다른 경우이다\n",
        "\n",
        "## 데이터 특성의 스케일(data scale)\n",
        "* 어떤 특성이 가지고 있는 값의 범위\n",
        "* 경사 하강법은 스케일에 민감한 알고리즘으로 특성의 스케일을 맞추는 전처리가 필요하다.\n"
      ]
    },
    {
      "cell_type": "markdown",
      "metadata": {
        "id": "8oi7f3xxntxs",
        "colab_type": "text"
      },
      "source": [
        "# 훈련데이터의 특성 확인"
      ]
    },
    {
      "cell_type": "code",
      "metadata": {
        "id": "NG23gi6olvsU",
        "colab_type": "code",
        "outputId": "42428434-f5f8-4f2b-d8ce-44a9cfcb5ee8",
        "colab": {
          "base_uri": "https://localhost:8080/",
          "height": 296
        }
      },
      "source": [
        "print(cancer.feature_names[[2,3]])\n",
        "plt.boxplot(x_train[:, 2:4])\n",
        "plt.xlabel('feature')\n",
        "plt.ylabel('value')\n",
        "plt.show()"
      ],
      "execution_count": 0,
      "outputs": [
        {
          "output_type": "stream",
          "text": [
            "['mean perimeter' 'mean area']\n"
          ],
          "name": "stdout"
        },
        {
          "output_type": "display_data",
          "data": {
            "image/png": "[encoded data removed]",
            "text/plain": [
              "<Figure size 432x288 with 1 Axes>"
            ]
          },
          "metadata": {
            "tags": []
          }
        }
      ]
    },
    {
      "cell_type": "markdown",
      "metadata": {
        "id": "Dz9N4Gn1n0Cy",
        "colab_type": "text"
      },
      "source": [
        "# 가중치를 기록할 변수와 하이퍼 파리미터 추가 & 가중치 기록하고 업데이트 양 조절\n",
        "* learning rate는 하이퍼 파리미터 이며, 학습률을 의미한다.\n",
        "* 가중치의 업데이트 양을 조절하는 역확을 하며, 일반적으로 손실 함수는 복잡한 굴곡을 가진 다차원 공간의 초평면(hyperplane)이다.\n",
        "* 만약 가중치를 큰 폭으로 업데이트하여 손실 함수가 최소가 될 수 있는 지점인 전역 최솟값을 지나쳐 버리게 되면, 최적의 해(최적의 가중치와 절편)를 구할 수가 없다.\n",
        "* 따라서 전역 최솟값을 놓치치 않도록 가중치의 업데이트 양을 조절할 필요가 있다."
      ]
    },
    {
      "cell_type": "code",
      "metadata": {
        "id": "cpxFzGVHnogy",
        "colab_type": "code",
        "colab": {}
      },
      "source": [
        "class SingleLayer:\n",
        "    \n",
        "    def __init__(self, learning_rate = 0.1):\n",
        "        self.w = None\n",
        "        self.b = None\n",
        "        self.losses = []\n",
        "        self.val_losses = []\n",
        "        self.w_history = []\n",
        "        self.lr = learning_rate\n",
        "\n",
        "    def forpass(self, x):\n",
        "        z = np.sum(x * self.w) + self.b  # 직선 방정식을 계산합니다\n",
        "        return z\n",
        "\n",
        "    def backprop(self, x, err):\n",
        "        w_grad = x * err    # 가중치에 대한 그래디언트를 계산합니다\n",
        "        b_grad = 1 * err    # 절편에 대한 그래디언트를 계산합니다\n",
        "        return w_grad, b_grad\n",
        "\n",
        "    def activation(self, z):\n",
        "        a = 1 / (1 + np.exp(-z))  # 시그모이드 계산\n",
        "        return a\n",
        "\n",
        "    def update_val_loss(self, x_val, y_val):\n",
        "        if x_val is None:\n",
        "          return\n",
        "        val_loss = 0\n",
        "        for i in range(len(x_val)):\n",
        "          z = self.forpass(x_val[i])\n",
        "          a = self.activation(z)\n",
        "          a = np.clip(a, 1e-10, 1-1e-10)\n",
        "          val_loss += -(y_val[i]*np.log(a)+(1-y_val[i])*np.log(1-a))\n",
        "        self.val_losses.append(val_loss/len(y_val))\n",
        "        \n",
        "    def fit(self, x, y, epochs=100, x_val = None, y_val = None):\n",
        "        self.w = np.ones(x.shape[1])               # 가중치를 초기화합니다.\n",
        "        self.b = 0                                 # 절편을 초기화합니다.\n",
        "        self.w_history.append(self.w.copy())       # 가중치를 기록합니다.\n",
        "        for i in range(epochs):                    # epochs만큼 반복합니다\n",
        "            loss = 0\n",
        "            # 인덱스를 섞습니다\n",
        "            indexes = np.random.permutation(np.arange(len(x)))\n",
        "            for i in indexes:                      # 모든 샘플에 대해 반복합니다\n",
        "                z = self.forpass(x[i])             # 정방향 계산\n",
        "                a = self.activation(z)             # 활성화 함수 적용\n",
        "                err = -(y[i] - a)                  # 오차 계산\n",
        "                w_grad, b_grad = self.backprop(x[i], err) # 역방향 계산\n",
        "                self.w -= self.lr*w_grad                  # 가중치 업데이트(학습률 적용)\n",
        "                self.b -= b_grad                   # 절편 업데이트\n",
        "                # 가중치를 기록합니다.\n",
        "                self.w_history.append(self.w.copy())\n",
        "                # 안전한 로그 계산을 위해 클리핑한 후 손실을 누적합니다\n",
        "                a = np.clip(a, 1e-10, 1-1e-10)\n",
        "                loss += -(y[i]*np.log(a)+(1-y[i])*np.log(1-a))\n",
        "            # 에포크마다 평균 손실을 저장합니다\n",
        "            self.losses.append(loss/len(y))\n",
        "            # 검증 데이터에 대한 손실을 계산한다.\n",
        "            self.update_val_loss(x_val, y_val)\n",
        "    \n",
        "    def predict(self, x):\n",
        "        z = [self.forpass(x_i) for x_i in x]     # 정방향 계산\n",
        "        return np.array(z) > 0                   # 스텝 함수 적용\n",
        "    \n",
        "    def score(self, x, y):\n",
        "        return np.mean(self.predict(x) == y)"
      ],
      "execution_count": 0,
      "outputs": []
    },
    {
      "cell_type": "code",
      "metadata": {
        "id": "EQQQ98PzlX9d",
        "colab_type": "code",
        "outputId": "486f706f-0ade-4c66-bc0f-5a6230d35666",
        "colab": {
          "base_uri": "https://localhost:8080/",
          "height": 51
        }
      },
      "source": [
        "layer1 = SingleLayer()\n",
        "layer1.fit(x_train, y_train)\n",
        "layer1.score(x_val, y_val)"
      ],
      "execution_count": 0,
      "outputs": [
        {
          "output_type": "stream",
          "text": [
            "/usr/local/lib/python3.6/dist-packages/ipykernel_launcher.py:20: RuntimeWarning: overflow encountered in exp\n"
          ],
          "name": "stderr"
        },
        {
          "output_type": "execute_result",
          "data": {
            "text/plain": [
              "0.8791208791208791"
            ]
          },
          "metadata": {
            "tags": []
          },
          "execution_count": 8
        }
      ]
    },
    {
      "cell_type": "markdown",
      "metadata": {
        "id": "X8bgm11EmrGG",
        "colab_type": "text"
      },
      "source": [
        "# 가중치 확인\n",
        "* w_history안에는 100번의 epoch동안 변경된 가중치가 모두 저장되어 있다.\n",
        "* 이중 3,4번째(w[2], w[3]) 값은 각각 mean perimeter, mean area특성에 대한 가중치이다.\n",
        "* w3에 대한 그래디언트가 크기 때문에 w3 축을따라 가중치가 크게 요동치고 있다.\n",
        "* 즉 가중치의 최적값에 도달하는 동안 w3값이 크게 요동치므로 모델이 불안정하게 수렴한다는 것을 알 수 있다.\n",
        "* 이는 스케일 조정으로 해결할 수 있다.\n"
      ]
    },
    {
      "cell_type": "code",
      "metadata": {
        "id": "la2uIWjZmmum",
        "colab_type": "code",
        "outputId": "697e29c8-8a6a-4c4d-ead4-6f4ee8bb1a22",
        "colab": {
          "base_uri": "https://localhost:8080/",
          "height": 280
        }
      },
      "source": [
        "w2=[]\n",
        "w3=[]\n",
        "for w in layer1.w_history:\n",
        "  w2.append(w[2])\n",
        "  w3.append(w[3])\n",
        "plt.plot(w2,w3)\n",
        "plt.plot(w2[-1], w3[-1], 'ro')\n",
        "plt.xlabel('w[2]')\n",
        "plt.ylabel('w[3]')\n",
        "plt.show()"
      ],
      "execution_count": 0,
      "outputs": [
        {
          "output_type": "display_data",
          "data": {
            "image/png": "[encoded data removed]",
            "text/plain": [
              "<Figure size 432x288 with 1 Axes>"
            ]
          },
          "metadata": {
            "tags": []
          }
        }
      ]
    },
    {
      "cell_type": "markdown",
      "metadata": {
        "id": "qmVfkfSzq-nY",
        "colab_type": "text"
      },
      "source": [
        "# 스케일 조정\n",
        "## 표준화(standardization)\n",
        "* z = x-m/s\n",
        "* 특성값에서 평균을 빼고 표준편차로 나누면된다.\n",
        "* 표준화를 하면 평균이 0이고, 분산이 1인 특성이 만들어진다.\n",
        "\n",
        "### 표준편차\n",
        "* 표준편차는 데이터가 얼마나 흩어져 있는지를 나타내는 지표로, 분산(variance)의 제곱근이다.\n",
        "\n",
        "\n",
        "# 표준화 구현\n",
        "* 넘파이의 mean() 과 std()는 axis에 0을 넣어주면 2차원 배열의 열을 기준으로 통계치를 계산하여 하나의 행 벡터로 반환한다."
      ]
    },
    {
      "cell_type": "code",
      "metadata": {
        "id": "Bpl-dkbTnlZ4",
        "colab_type": "code",
        "colab": {}
      },
      "source": [
        "train_mean = np.mean(x_train, axis=0)\n",
        "train_std = np.std(x_train, axis=0)\n",
        "x_train_scaled = (x_train - train_mean)/train_std"
      ],
      "execution_count": 0,
      "outputs": []
    },
    {
      "cell_type": "code",
      "metadata": {
        "id": "2xP4bvIHszVz",
        "colab_type": "code",
        "outputId": "5255d93d-34be-4238-f4a6-156745ea836e",
        "colab": {
          "base_uri": "https://localhost:8080/",
          "height": 279
        }
      },
      "source": [
        "layer2 = SingleLayer()\n",
        "layer2.fit(x_train_scaled, y_train)\n",
        "w2 = []\n",
        "w3 = []\n",
        "for w in layer2.w_history:\n",
        "  w2.append(w[2])\n",
        "  w3.append(w[3])\n",
        "plt.plot(w2,w3)\n",
        "plt.plot(w2[-1], w3[-1], 'ro')\n",
        "plt.xlabel('w[2]')\n",
        "plt.ylabel('w[3]')\n",
        "plt.show()"
      ],
      "execution_count": 0,
      "outputs": [
        {
          "output_type": "display_data",
          "data": {
            "image/png": "[encoded data removed]",
            "text/plain": [
              "<Figure size 432x288 with 1 Axes>"
            ]
          },
          "metadata": {
            "tags": []
          }
        }
      ]
    },
    {
      "cell_type": "markdown",
      "metadata": {
        "id": "X1r7neaatdN5",
        "colab_type": "text"
      },
      "source": [
        "* x_val은 표준화를 하지 않아 데이터의 스케일이 다르다. 따라서 Acc가 낮게 나온다."
      ]
    },
    {
      "cell_type": "code",
      "metadata": {
        "id": "fU1mar0YtVvg",
        "colab_type": "code",
        "outputId": "5ad7d9e4-dea7-4169-b6e6-1be374f5cd8b",
        "colab": {
          "base_uri": "https://localhost:8080/",
          "height": 34
        }
      },
      "source": [
        "layer2.score(x_val, y_val)"
      ],
      "execution_count": 0,
      "outputs": [
        {
          "output_type": "execute_result",
          "data": {
            "text/plain": [
              "0.37362637362637363"
            ]
          },
          "metadata": {
            "tags": []
          },
          "execution_count": 13
        }
      ]
    },
    {
      "cell_type": "code",
      "metadata": {
        "id": "ISRiT4NitcPQ",
        "colab_type": "code",
        "outputId": "39465eb9-eb0f-4ed7-cf79-b296ddbf1637",
        "colab": {
          "base_uri": "https://localhost:8080/",
          "height": 34
        }
      },
      "source": [
        "val_mean = np.mean(x_val, axis=0)\n",
        "val_std = np.std(x_val, axis=0)\n",
        "x_val_scaled = (x_val - val_mean)/val_std\n",
        "layer2.score(x_val_scaled, y_val)"
      ],
      "execution_count": 0,
      "outputs": [
        {
          "output_type": "execute_result",
          "data": {
            "text/plain": [
              "0.967032967032967"
            ]
          },
          "metadata": {
            "tags": []
          },
          "execution_count": 14
        }
      ]
    },
    {
      "cell_type": "markdown",
      "metadata": {
        "id": "mvSKytNPuRt_",
        "colab_type": "text"
      },
      "source": [
        "# 훈련 데이터와 검증 데이터의 스케일 조정이 다른 비율로 된경우\n",
        "* 원본 데이터의 산점도"
      ]
    },
    {
      "cell_type": "code",
      "metadata": {
        "id": "GTD7VDc0uAYK",
        "colab_type": "code",
        "outputId": "8da5096e-5098-46fe-c671-d023beb4e92f",
        "colab": {
          "base_uri": "https://localhost:8080/",
          "height": 279
        }
      },
      "source": [
        "plt.plot(x_train[:50,0], x_train[:50,1],'bo')\n",
        "plt.plot(x_val[:50, 0], x_val[:50,1], 'ro')\n",
        "plt.xlabel('fature 1')\n",
        "plt.ylabel('fature 2')\n",
        "plt.legend(['train set', 'val set'])\n",
        "plt.show()"
      ],
      "execution_count": 0,
      "outputs": [
        {
          "output_type": "display_data",
          "data": {
            "image/png": "[encoded data removed]",
            "text/plain": [
              "<Figure size 432x288 with 1 Axes>"
            ]
          },
          "metadata": {
            "tags": []
          }
        }
      ]
    },
    {
      "cell_type": "markdown",
      "metadata": {
        "id": "SWejHimivHye",
        "colab_type": "text"
      },
      "source": [
        "* 전처리 데이터의 산점도"
      ]
    },
    {
      "cell_type": "code",
      "metadata": {
        "id": "4f4PqM-1u5YA",
        "colab_type": "code",
        "outputId": "fd8c742f-0fd3-4757-f398-05e2ef4aaa21",
        "colab": {
          "base_uri": "https://localhost:8080/",
          "height": 279
        }
      },
      "source": [
        "plt.plot(x_train_scaled[:50,0], x_train_scaled[:50,1],'bo')\n",
        "plt.plot(x_val_scaled[:50, 0], x_val_scaled[:50,1], 'ro')\n",
        "plt.xlabel('fature 1')\n",
        "plt.ylabel('fature 2')\n",
        "plt.legend(['train set', 'val set'])\n",
        "plt.show()"
      ],
      "execution_count": 0,
      "outputs": [
        {
          "output_type": "display_data",
          "data": {
            "image/png": "[encoded data removed]",
            "text/plain": [
              "<Figure size 432x288 with 1 Axes>"
            ]
          },
          "metadata": {
            "tags": []
          }
        }
      ]
    },
    {
      "cell_type": "markdown",
      "metadata": {
        "id": "LnJJbRdNvW1z",
        "colab_type": "text"
      },
      "source": [
        "* 두 그래프를 보면 훈련 데이터와 검증 데이터가 다른 비율로 표준화된 것을 볼 수 있다.\n",
        "* 원본 훈련 데이터와 원본 검증 데이터의 그래프에서의 거리는 변환후에도 같아야 한다.\n",
        "* 따라서 같은 비율로 표준화를 해야한다."
      ]
    },
    {
      "cell_type": "code",
      "metadata": {
        "id": "g6_qZl3jvTp3",
        "colab_type": "code",
        "outputId": "21940092-9003-49d7-abf8-4fe7303bedd6",
        "colab": {
          "base_uri": "https://localhost:8080/",
          "height": 279
        }
      },
      "source": [
        "x_val_scaled = (x_val - train_mean)/train_std\n",
        "\n",
        "plt.plot(x_train_scaled[:50,0], x_train_scaled[:50,1],'bo')\n",
        "plt.plot(x_val_scaled[:50, 0], x_val_scaled[:50,1], 'ro')\n",
        "plt.xlabel('fature 1')\n",
        "plt.ylabel('fature 2')\n",
        "plt.legend(['train set', 'val set'])\n",
        "plt.show()"
      ],
      "execution_count": 0,
      "outputs": [
        {
          "output_type": "display_data",
          "data": {
            "image/png": "[encoded data removed]",
            "text/plain": [
              "<Figure size 432x288 with 1 Axes>"
            ]
          },
          "metadata": {
            "tags": []
          }
        }
      ]
    },
    {
      "cell_type": "code",
      "metadata": {
        "id": "tFAlvfrKv850",
        "colab_type": "code",
        "outputId": "416b6145-7901-41b5-aca2-737b0a58cb34",
        "colab": {
          "base_uri": "https://localhost:8080/",
          "height": 34
        }
      },
      "source": [
        "layer2.score(x_val_scaled, y_val)"
      ],
      "execution_count": 0,
      "outputs": [
        {
          "output_type": "execute_result",
          "data": {
            "text/plain": [
              "0.967032967032967"
            ]
          },
          "metadata": {
            "tags": []
          },
          "execution_count": 24
        }
      ]
    },
    {
      "cell_type": "markdown",
      "metadata": {
        "id": "Wj1Z2BWfwOUr",
        "colab_type": "text"
      },
      "source": [
        "# 과대 적합과 과소 적합\n",
        "## 과대 적합 \n",
        "* 모델이 훈련세트에서는 좋은 성능을 내지만 검증 세트에서는 낮은 성능을 내는 경우  \n",
        "* 과대 적합된 모델을 분산이 크다(high variance)고 말한다\n",
        "* 원인중 하나는 훈련 세트에 충분히 다양한 패턴의 샘플이 포함되지 않는 경우\n",
        "* 더욱 많은 훈련 데이터를 모으면 이는 해결할 수 있는 문제이다.  \n",
        "* 만약 데이터를 많이 모으기 힘들다면, 모델의 가중치를 제한 할 수 있다.(모델의 복잡도를 낮춘다)\n",
        "\n",
        "## 과소 적합 \n",
        "* 훈련 세트와 검증 세트의 성능 차이는 크지 않지만 모두 낮은 성능을 내는 경우\n",
        "* 과소 적합된 모델을 편향이 크다(high bias)고 한다.\n",
        "* 과소 적합은 충분히 모델이 복잡하지 않아서 훈련 데이터에 있는 패턴을 모두 잡지 못하는 경우이다.\n",
        "* 복잡도가 더 높은 모델을 사용하거나, 가중치의 규제를 완화하면 이를 해결할 수 있다.\n",
        "\n",
        "## 모델 복잡도\n",
        "* 모델이 가지는 학습 가능한 가중치의 개수, 층이나 유닛의 개수가 많아지면 복잡도가 높은 모델이 만들어진다.\n"
      ]
    },
    {
      "cell_type": "markdown",
      "metadata": {
        "id": "btkiOll7vu7o",
        "colab_type": "text"
      },
      "source": [
        "## 적절한 편향-분산 트레이드오프 선택\n",
        "* 과소적합된 모델(편향)과 과대적합된 모델(분산) 사이의 관계를 편향-분산 트레이드오프(bias-varience tradeoff)라고 한다.\n",
        "* 편향-분산 트레이드오프란 편향을 줄이면(훈련세트의 성능을 높이면) 분산이 커지고(검증 세트와 성능 차이가 커지고) 반대로 분산을 줄이면(검증 세트와 성능 차이를 줄이면) 편향이 커지는(훈련 세트의 성능이 낮아진다)것을 말한다."
      ]
    },
    {
      "cell_type": "code",
      "metadata": {
        "id": "AthyDnVCwJb4",
        "colab_type": "code",
        "colab": {}
      },
      "source": [
        "layer3 = SingleLayer()\n",
        "layer3.fit(x_train_scaled, y_train, x_val = x_val_scaled, y_val = y_val)"
      ],
      "execution_count": 0,
      "outputs": []
    },
    {
      "cell_type": "code",
      "metadata": {
        "id": "6VvPNG4i0StP",
        "colab_type": "code",
        "outputId": "1e1d9c6f-40ec-4373-98ab-b99e7d73f8db",
        "colab": {
          "base_uri": "https://localhost:8080/",
          "height": 283
        }
      },
      "source": [
        "plt.ylim(0, 0.3)\n",
        "plt.plot(layer3.losses)\n",
        "plt.plot(layer3.val_losses)\n",
        "plt.xlabel('epoch')\n",
        "plt.ylabel('loss')\n",
        "plt.legend(['train_loss', 'val_loss'])\n",
        "plt.show()"
      ],
      "execution_count": 0,
      "outputs": [
        {
          "output_type": "display_data",
          "data": {
            "image/png": "[encoded data removed]",
            "text/plain": [
              "<Figure size 432x288 with 1 Axes>"
            ]
          },
          "metadata": {
            "tags": []
          }
        }
      ]
    },
    {
      "cell_type": "code",
      "metadata": {
        "id": "JCv_2ZKc0q0h",
        "colab_type": "code",
        "outputId": "3c6dd20f-8f7f-499f-d4e7-ad859189173d",
        "colab": {
          "base_uri": "https://localhost:8080/",
          "height": 34
        }
      },
      "source": [
        "layer4 = SingleLayer()\n",
        "layer4.fit(x_train_scaled, y_train, epochs=18)\n",
        "layer4.score(x_val_scaled, y_val)"
      ],
      "execution_count": 0,
      "outputs": [
        {
          "output_type": "execute_result",
          "data": {
            "text/plain": [
              "0.978021978021978"
            ]
          },
          "metadata": {
            "tags": []
          },
          "execution_count": 29
        }
      ]
    },
    {
      "cell_type": "markdown",
      "metadata": {
        "id": "sY_jslAK0_zg",
        "colab_type": "text"
      },
      "source": [
        "# 규제 방법\n",
        "* 가중치 규제란 가중치의 값이 커지지 않도록 제한하는 방법이다. 가중치를 규제하면 모델의 일반회된 성능이 높아진다.\n",
        "* 모델이 몇개의 데이터에 집착하면 새로운 데이터에 적응을 못하므로 좋은 성능을 가졌다고 할 수 없다.\n",
        "\n",
        "# L1규제\n",
        "* 손실 함수에 가중치의 절댓값인 L1노름(norm)을 추가한다.\n",
        "* L1노름의 n은 가중치의 개수를 의미하므로, L1규제를 가중치의 절댓값을 손실 함수에 더한것으로 보아도 된다.\n",
        "* 손실 함수에 L1 노름을 더하면 L1규제가 만들어 진다. 이때 L1노름을 그냥 더하지 않고 alpha값을 곱해서 더하는데 alpha값은 규제의 양을 조절하는 하이퍼 파라미터이다.\n",
        "* alpha값이 커지면 전체 손실 함수의 값이 커지지 않도록 가중치의 합이 작아져야 한다 (규제가 강해졌다 --> 가중치가 작아졌으므로)\n",
        "* alpha의 값이 작아지면 손실 함수의 값이 커지므로 규제가 약해졌다고 한다.\n",
        "* 절편에 대해 규제를 하지 않는 이유는 절편은 모델에 영향을 미치는 방식이 가중치와 달라서 이다. 절편을 규제하면 모델을 어떤 방향으로 이동시킬 뿐 복잡도에는 영향을 주지 않는다.\n",
        "* 회귀 모델에 L1규제를 적용 --> 라쏘(Lasso)\n",
        "* 라쏘는 가중치를 줄이다 못해 0으로 만들 수도 있다. 가중치가 0인 특성은 모델에서 사용할 수 없다는 것과 같다. 즉 특성을 선택할 수 있다는 효과를 얻을 수 있다.\n",
        "* L1규제는 하이퍼 파라미터인 alpha에 많이 의존한다. 즉 가중치의 크기에 따라 규제의 양이 변하지 않으므로 규제효과가 좋지 않다.\n",
        "\n",
        "# L2규제\n",
        "* 손실 함수에 L2노름의 제곱을 더하면 L2규재이다.\n",
        "* alpha는 규제의 양을 조절하기 위한 하이퍼 파라미터 이다.\n",
        "* L2규제를 미분하면 간단히 가중치 벡터인 w만 남는다.\n",
        "* L2규제는 그레디언트 계산에 가중치의 값 자체가 포함되므로 가중치의 부호만 사용하는 L1규제 보다 조금 더 효과적이다.\n",
        "* L2규제는 가중치를 완전히 0으로 만들지 않는다. 가중치를 0으로 만들면 특성을 제외하는 효과는 있지만, 모델의 복잡도가 떨어진다.\n",
        "* 회귀 모델에 L2규제를 적용하면 릿지(Ridge)가 된다."
      ]
    },
    {
      "cell_type": "code",
      "metadata": {
        "id": "b-gwDY7Y08DO",
        "colab_type": "code",
        "colab": {}
      },
      "source": [
        "# 규제 추가 모델\n",
        "class SingleLayer:\n",
        "    \n",
        "    def __init__(self, learning_rate = 0.1, l1=0, l2=0):\n",
        "        self.w = None\n",
        "        self.b = None\n",
        "        self.losses = []\n",
        "        self.val_losses = []\n",
        "        self.w_history = []\n",
        "        self.lr = learning_rate\n",
        "        self.l1=l1\n",
        "        self.l2=l2\n",
        "\n",
        "    def forpass(self, x):\n",
        "        z = np.sum(x * self.w) + self.b  # 직선 방정식을 계산합니다\n",
        "        return z\n",
        "\n",
        "    def backprop(self, x, err):\n",
        "        w_grad = x * err    # 가중치에 대한 그래디언트를 계산합니다\n",
        "        b_grad = 1 * err    # 절편에 대한 그래디언트를 계산합니다\n",
        "        return w_grad, b_grad\n",
        "\n",
        "    def activation(self, z):\n",
        "        a = 1 / (1 + np.exp(-z))  # 시그모이드 계산\n",
        "        return a\n",
        "\n",
        "    def update_val_loss(self, x_val, y_val):\n",
        "        if x_val is None:\n",
        "          return\n",
        "        val_loss = 0\n",
        "        for i in range(len(x_val)):\n",
        "          z = self.forpass(x_val[i])\n",
        "          a = self.activation(z)\n",
        "          a = np.clip(a, 1e-10, 1-1e-10)\n",
        "          val_loss += -(y_val[i]*np.log(a)+(1-y_val[i])*np.log(1-a))\n",
        "        self.val_losses.append(val_loss/len(y_val) + self.reg_loss())\n",
        "        \n",
        "    def fit(self, x, y, epochs=100, x_val = None, y_val = None):\n",
        "        self.w = np.ones(x.shape[1])               # 가중치를 초기화합니다.\n",
        "        self.b = 0                                 # 절편을 초기화합니다.\n",
        "        self.w_history.append(self.w.copy())       # 가중치를 기록합니다.\n",
        "        for i in range(epochs):                    # epochs만큼 반복합니다\n",
        "            loss = 0\n",
        "            # 인덱스를 섞습니다\n",
        "            indexes = np.random.permutation(np.arange(len(x)))\n",
        "            for i in indexes:                      # 모든 샘플에 대해 반복합니다\n",
        "                z = self.forpass(x[i])             # 정방향 계산\n",
        "                a = self.activation(z)             # 활성화 함수 적용\n",
        "                err = -(y[i] - a)                  # 오차 계산\n",
        "                w_grad, b_grad = self.backprop(x[i], err) # 역방향 계산\n",
        "                w_grad+=self.l1*np.sign(self.w) + self.l2*self.w\n",
        "                self.w -= self.lr*w_grad                  # 가중치 업데이트(학습률 적용)\n",
        "                self.b -= b_grad                   # 절편 업데이트\n",
        "                # 가중치를 기록합니다.\n",
        "                self.w_history.append(self.w.copy())\n",
        "                # 안전한 로그 계산을 위해 클리핑한 후 손실을 누적합니다\n",
        "                a = np.clip(a, 1e-10, 1-1e-10)\n",
        "                loss += -(y[i]*np.log(a)+(1-y[i])*np.log(1-a))\n",
        "            # 에포크마다 평균 손실을 저장합니다\n",
        "            self.losses.append(loss/len(y) + self.reg_loss())\n",
        "            # 검증 데이터에 대한 손실을 계산한다.\n",
        "            self.update_val_loss(x_val, y_val)\n",
        "    \n",
        "    def reg_loss(self):\n",
        "      return self.l1*np.sum(np.abs(self.w)) + self.l2/2*np.sum(self.w**2)\n",
        "\n",
        "    def predict(self, x):\n",
        "        z = [self.forpass(x_i) for x_i in x]     # 정방향 계산\n",
        "        return np.array(z) > 0                   # 스텝 함수 적용\n",
        "    \n",
        "    def score(self, x, y):\n",
        "        return np.mean(self.predict(x) == y)"
      ],
      "execution_count": 0,
      "outputs": []
    },
    {
      "cell_type": "code",
      "metadata": {
        "id": "H6ySKYA7W32R",
        "colab_type": "code",
        "colab": {}
      },
      "source": [
        "l1_list = [0.0001, 0.001, 0.01]\n",
        "\n",
        "for l1 in l1_lsit:\n",
        "  lyr = SingleLayer(l1=l1)\n",
        "  lyr.fit(x_train_scaled, y_train, x_val = x_val_scaled, y_val=y_val)\n",
        "\n",
        "  plt.plot(lyr.losses)\n",
        "  plt.plot(lyr.val_losses)\n",
        "  plt.title('Learning Curve (l1={})'.format(l1))\n",
        "  plt.ylabel('loss')\n",
        "  plt.xlabel('epoch')\n",
        "  plt.legend(['train_loss', 'val_loss'])\n",
        "  plt.ylim(0,0.3)\n",
        "  plt.show()\n",
        "\n",
        "  plt.plot(lyr.w, 'bo')\n",
        "  plt.titlw('weight (l1={})'.format(l1))\n",
        "  plt.xlabel('weight')\n",
        "  plt.ylabel('value')\n",
        "  plt.ylim(-4,4)\n",
        "  plt.show()"
      ],
      "execution_count": 0,
      "outputs": []
    },
    {
      "cell_type": "code",
      "metadata": {
        "id": "rrxDSW2QZXJd",
        "colab_type": "code",
        "colab": {}
      },
      "source": [
        "layer5 = SingleLayer(l1=0.001)\n",
        "layer5.fit(x_train_scaled, y_train, epochs=20)\n",
        "layer5.score(x_val_scaled, y_val)"
      ],
      "execution_count": 0,
      "outputs": []
    },
    {
      "cell_type": "code",
      "metadata": {
        "id": "LNwTwSxAY6n_",
        "colab_type": "code",
        "colab": {}
      },
      "source": [
        "l2_list = [0.0001, 0.001, 0.01]\n",
        "\n",
        "for l2 in l2_list:\n",
        "  lyr = SingleLayer(l2=l2)\n",
        "  lyr.fit(x_train_scaled, y_train, x_val = x_val_scaled, y_val=y_val)\n",
        "\n",
        "  plt.plot(lyr.losses)\n",
        "  plt.plot(lyr.val_losses)\n",
        "  plt.title('Learning Curve (l2={})'.format(l2))\n",
        "  plt.ylabel('loss')\n",
        "  plt.xlabel('epoch')\n",
        "  plt.legend(['train_loss', 'val_loss'])\n",
        "  plt.ylim(0,0.3)\n",
        "  plt.show()\n",
        "\n",
        "  plt.plot(lyr.w, 'bo')\n",
        "  plt.titlw('weight (l2={})'.format(l2))\n",
        "  plt.xlabel('weight')\n",
        "  plt.ylabel('value')\n",
        "  plt.ylim(-4,4)\n",
        "  plt.show()"
      ],
      "execution_count": 0,
      "outputs": []
    },
    {
      "cell_type": "code",
      "metadata": {
        "id": "9hMhkFsXZm0D",
        "colab_type": "code",
        "colab": {}
      },
      "source": [
        "layer6 = SingleLayer(l2=0.01)\n",
        "layer6.fit(x_train_scaled, y_train, epochs=50)\n",
        "layer6.score(x_val_scaled, y_val)"
      ],
      "execution_count": 0,
      "outputs": []
    },
    {
      "cell_type": "markdown",
      "metadata": {
        "id": "70wd0u5wZ4oK",
        "colab_type": "text"
      },
      "source": [
        "* 가중치를 강하게 제한했기 때문에 검증 세트의 손실 값을 일정한 수준으로 유지하면서, 알고리즘이 전역 최솟값을 찾는 과정을 오래 반복할 수 있다."
      ]
    },
    {
      "cell_type": "code",
      "metadata": {
        "id": "_pFaWdERZwEx",
        "colab_type": "code",
        "colab": {}
      },
      "source": [
        "np.sum(layer6.predict(x_val_scaled) == y_val)"
      ],
      "execution_count": 0,
      "outputs": []
    },
    {
      "cell_type": "markdown",
      "metadata": {
        "id": "ewfnGyEbaHcV",
        "colab_type": "text"
      },
      "source": [
        "# SGDClassifier에서 규제사용\n"
      ]
    },
    {
      "cell_type": "code",
      "metadata": {
        "id": "81CrX_V5aSap",
        "colab_type": "code",
        "colab": {}
      },
      "source": [
        "sgd = SGDClassifier(loss='log', penalty='l2', alpha=0.001, random_state=42)\n",
        "sgd.fit(x_train_scaled, y_train)\n",
        "sgd.score(x_val_scaled, y_val)"
      ],
      "execution_count": 0,
      "outputs": []
    },
    {
      "cell_type": "markdown",
      "metadata": {
        "id": "2vrMIcmHWAzB",
        "colab_type": "text"
      },
      "source": [
        "# K-폴드 교차 검증\n",
        "* 훈련 세트를 동일한 크기의 폴드가 K개가 되도록 나눈다\n",
        "* 각 폴드를 검증을 하기 위해 사용하고 나머지 폴드들은 훈련을 하기 위해 사용된다. 이 과정을 k번 반복하여 모델을 만든다.\n",
        "* 코드에서 폴드를 나누기전 훈련 데이터를 전처리 한다면 이는 검증 데이터를 누설하는것이다. 검증 데이터를 나누고 나서 훈련 데이터를 전처리하는 것을 주의 해야 한다."
      ]
    },
    {
      "cell_type": "code",
      "metadata": {
        "id": "hdR__lFZWzpX",
        "colab_type": "code",
        "outputId": "72e8fe2a-d318-490d-894e-c2c3f9157f00",
        "colab": {
          "base_uri": "https://localhost:8080/",
          "height": 34
        }
      },
      "source": [
        "k = 10\n",
        "bins = len(x_train_all)//k\n",
        "validation_scores = []\n",
        "for i in range(k):\n",
        "  start = i*bins\n",
        "  end = (i+1)*bins\n",
        "  val_fold = x_train_all[start:end]\n",
        "  val_target = y_train_all[start:end]\n",
        "  train_index = list(range(0,start)) + list(range(end,len(x_train_all)))\n",
        "  train_fold = x_train_all[train_index]\n",
        "  train_target = y_train_all[train_index]\n",
        "\n",
        "  train_mean = np.mean(train_fold, axis=0)\n",
        "  train_std = np.std(train_fold, axis=0)\n",
        "  train_fold_scaled = (train_fold-train_mean)/train_std\n",
        "  val_fold_scaled = (val_fold-train_mean)/train_std\n",
        "\n",
        "  lyr = SingleLayer(l2=0.01)\n",
        "  lyr.fit(train_fold_scaled, train_target, epochs=50)\n",
        "  score = lyr.score(val_fold_scaled, val_target)\n",
        "  validation_scores.append(score)\n",
        "\n",
        "print(np.mean(validation_scores))"
      ],
      "execution_count": 0,
      "outputs": [
        {
          "output_type": "stream",
          "text": [
            "0.9733333333333334\n"
          ],
          "name": "stdout"
        }
      ]
    },
    {
      "cell_type": "code",
      "metadata": {
        "id": "l0gtCl90Y8aq",
        "colab_type": "code",
        "outputId": "48e1251e-4773-44c2-f99b-41b71f95e3d2",
        "colab": {
          "base_uri": "https://localhost:8080/",
          "height": 34
        }
      },
      "source": [
        "from sklearn.pipeline import make_pipeline\n",
        "from sklearn.preprocessing import StandardScaler\n",
        "from sklearn.model_selection import cross_validate\n",
        "sgd = SGDClassifier(loss='log', penalty='l2', alpha=0.001, random_state=42)\n",
        "pipe = make_pipeline(StandardScaler(), sgd)\n",
        "scores = cross_validate(pipe, x_train_all, y_train_all, cv=10, return_train_score=True)\n",
        "print(np.mean(scores['test_score']))"
      ],
      "execution_count": 0,
      "outputs": [
        {
          "output_type": "stream",
          "text": [
            "0.9694202898550724\n"
          ],
          "name": "stdout"
        }
      ]
    },
    {
      "cell_type": "code",
      "metadata": {
        "id": "2h7HvoYBeONi",
        "colab_type": "code",
        "outputId": "e5e8a816-59ab-4cf0-d804-b38e505e1db6",
        "colab": {
          "base_uri": "https://localhost:8080/",
          "height": 34
        }
      },
      "source": [
        "print(np.mean(scores['train_score']))"
      ],
      "execution_count": 0,
      "outputs": [
        {
          "output_type": "stream",
          "text": [
            "0.9875478561631581\n"
          ],
          "name": "stdout"
        }
      ]
    },
    {
      "cell_type": "code",
      "metadata": {
        "id": "US8_-U5XeyO6",
        "colab_type": "code",
        "colab": {}
      },
      "source": [
        ""
      ],
      "execution_count": 0,
      "outputs": []
    }
  ]
}