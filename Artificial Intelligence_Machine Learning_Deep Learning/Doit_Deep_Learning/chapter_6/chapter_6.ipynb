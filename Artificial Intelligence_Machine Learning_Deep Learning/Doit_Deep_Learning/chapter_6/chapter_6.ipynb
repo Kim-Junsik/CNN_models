{
  "nbformat": 4,
  "nbformat_minor": 0,
  "metadata": {
    "colab": {
      "name": "chapter_6.ipynb",
      "provenance": [],
      "collapsed_sections": []
    },
    "kernelspec": {
      "name": "python3",
      "display_name": "Python 3"
    }
  },
  "cells": [
    {
      "cell_type": "code",
      "metadata": {
        "id": "GMj1DQe6hXEn",
        "colab_type": "code",
        "colab": {}
      },
      "source": [
        "from google.colab import drive\n",
        "drive.mount('/content/gdrive/')"
      ],
      "execution_count": 0,
      "outputs": []
    },
    {
      "cell_type": "markdown",
      "metadata": {
        "id": "JxEHKo-0m0rA",
        "colab_type": "text"
      },
      "source": [
        "# 신경망 알고리즘의 벡터화\n",
        "* 넘파이, 머신러닝, 딥러닝 패키지들은 다차원 배열의 계산을 빠르게 수행할 수 있다. --> 벡터화 연산(vectorization)\n",
        "* 확률적 경사 하강법 : 가중치를 1번 업데이트 할때 1개의 샘플을 사용, 손싱함수의 전역 최솟값을 불안정하게 찾는다.\n",
        "* 배치 경사 하강법 : 가중치를 1번 업데이트할 때 전체 샘플을 사용하므로 손실함수의 전역 최솟값을 안정적으로 찾는다. 가중치를 1번 업데이트할 때 사용되는 데이터의 갯수가 많으므로 알고리즘 1번 수행당 계산 비용이 많이 든다.\n",
        "\n"
      ]
    },
    {
      "cell_type": "code",
      "metadata": {
        "id": "_ESoMgu3hl73",
        "colab_type": "code",
        "colab": {}
      },
      "source": [
        "import numpy as \n",
        "import matplotlib.pyplot as plt\n",
        "from sklearn.datasets import load_breast_cancer\n",
        "from sklearn.model_selection import train_test_split\n",
        "from sklearn.preprocessing import StandardScaler"
      ],
      "execution_count": 0,
      "outputs": []
    },
    {
      "cell_type": "code",
      "metadata": {
        "id": "kOjmELH1ssBP",
        "colab_type": "code",
        "colab": {}
      },
      "source": [
        "cancer = load_breast_cancer()\n",
        "x = cancer.data\n",
        "y = cancer.target\n",
        "x_train_all, x_test, y_train_all, y_test = train_test_split(x, y, stratify=y, test_size = 0.2, random_state=42)\n",
        "x_train, x_val, y_train, y_val = train_test_split(x_train_all, y_train_all, stratify=y_train_all, test_size = 0.2, random_state=42)"
      ],
      "execution_count": 0,
      "outputs": []
    },
    {
      "cell_type": "code",
      "metadata": {
        "id": "WEWvRb6WtYwB",
        "colab_type": "code",
        "outputId": "9a31555b-6501-431f-caeb-27f5cccdf61d",
        "colab": {
          "base_uri": "https://localhost:8080/",
          "height": 34
        }
      },
      "source": [
        "print(x_train.shape, x_val.shape)"
      ],
      "execution_count": 0,
      "outputs": [
        {
          "output_type": "stream",
          "text": [
            "(364, 30) (91, 30)\n"
          ],
          "name": "stdout"
        }
      ]
    },
    {
      "cell_type": "markdown",
      "metadata": {
        "id": "RtvAMfhWxkk4",
        "colab_type": "text"
      },
      "source": [
        "* 배치 경사 하강법에서는 forpass()와 backpass()에서 전체 데이터를 한번에 계산하므로 두 번째 for문이 삭제된다.\n",
        "* 배치 경사 하강법은 전체 샘플을 사용하여 가중치를 업데이트 하므로 손실 값이 안정적으로 감소한다.\n",
        "* 가중치의 변화가 연속적이므로 손실값도 안정적으로 수렴한다.\n"
      ]
    },
    {
      "cell_type": "code",
      "metadata": {
        "id": "vhI0zuuKuE4m",
        "colab_type": "code",
        "colab": {}
      },
      "source": [
        "\n",
        "class SingleLayer:\n",
        "    \n",
        "    def __init__(self, learning_rate=0.1, l1=0, l2=0):\n",
        "        self.w = None              # 가중치\n",
        "        self.b = None              # 절편\n",
        "        self.losses = []           # 훈련 손실\n",
        "        self.val_losses = []       # 검증 손실\n",
        "        self.w_history = []        # 가중치 기록\n",
        "        self.lr = learning_rate    # 학습률\n",
        "        self.l1 = l1               # L1 손실 하이퍼파라미터\n",
        "        self.l2 = l2               # L2 손실 하이퍼파라미터\n",
        "\n",
        "    def forpass(self, x):\n",
        "        z = np.dot(x, self.w) + self.b        # 선형 출력을 계산합니다.\n",
        "        return z\n",
        "\n",
        "    def backprop(self, x, err):\n",
        "        m = len(x)\n",
        "        w_grad = np.dot(x.T, err) / m         # 가중치에 대한 그래디언트를 계산합니다.\n",
        "        b_grad = np.sum(err) / m              # 절편에 대한 그래디언트를 계산합니다.\n",
        "        return w_grad, b_grad\n",
        "\n",
        "    def activation(self, z):\n",
        "        a = 1 / (1 + np.exp(-z))              # 시그모이드 계산\n",
        "        return a\n",
        "        \n",
        "    def fit(self, x, y, epochs=100, x_val=None, y_val=None):\n",
        "        y = y.reshape(-1, 1)                  # 타깃을 열 벡터로 바꿉니다.\n",
        "        y_val = y_val.reshape(-1, 1)\n",
        "        m = len(x)                            # 샘플 개수를 저장합니다.\n",
        "        self.w = np.ones((x.shape[1], 1))     # 가중치를 초기화합니다.\n",
        "        self.b = 0                            # 절편을 초기화합니다.\n",
        "        self.w_history.append(self.w.copy())  # 가중치를 기록합니다.\n",
        "        # epochs만큼 반복합니다.\n",
        "        for i in range(epochs):\n",
        "            z = self.forpass(x)               # 정방향 계산을 수행합니다.\n",
        "            a = self.activation(z)            # 활성화 함수를 적용합니다.\n",
        "            err = -(y - a)                    # 오차를 계산합니다.\n",
        "            # 오차를 역전파하여 그래디언트를 계산합니다.\n",
        "            w_grad, b_grad = self.backprop(x, err)\n",
        "            # 그래디언트에서 페널티 항의 미분 값을 더합니다.\n",
        "            w_grad += (self.l1 * np.sign(self.w) + self.l2 * self.w) / m\n",
        "            # 가중치와 절편을 업데이트합니다.\n",
        "            self.w -= self.lr * w_grad\n",
        "            self.b -= self.lr * b_grad\n",
        "            # 가중치를 기록합니다.\n",
        "            self.w_history.append(self.w.copy())\n",
        "            # 안전한 로그 계산을 위해 클리핑합니다.\n",
        "            a = np.clip(a, 1e-10, 1-1e-10)\n",
        "            # 로그 손실과 규제 손실을 더하여 리스트에 추가합니다.\n",
        "            loss = np.sum(-(y*np.log(a) + (1-y)*np.log(1-a)))\n",
        "            self.losses.append((loss + self.reg_loss()) / m)\n",
        "            # 검증 세트에 대한 손실을 계산합니다.\n",
        "            self.update_val_loss(x_val, y_val)\n",
        "    \n",
        "    def predict(self, x):\n",
        "        z = self.forpass(x)      # 정방향 계산을 수행합니다.\n",
        "        return z > 0             # 스텝 함수를 적용합니다.\n",
        "    \n",
        "    def score(self, x, y):\n",
        "        # 예측과 타깃 열 벡터를 비교하여 True의 비율을 반환합니다.\n",
        "        return np.mean(self.predict(x) == y.reshape(-1, 1))\n",
        "    \n",
        "    def reg_loss(self):\n",
        "        # 가중치에 규제를 적용합니다.\n",
        "        return self.l1 * np.sum(np.abs(self.w)) + self.l2 / 2 * np.sum(self.w**2)\n",
        "    \n",
        "    def update_val_loss(self, x_val, y_val):\n",
        "        z = self.forpass(x_val)            # 정방향 계산을 수행합니다.\n",
        "        a = self.activation(z)             # 활성화 함수를 적용합니다.\n",
        "        a = np.clip(a, 1e-10, 1-1e-10)     # 출력 값을 클리핑합니다.\n",
        "        # 로그 손실과 규제 손실을 더하여 리스트에 추가합니다.\n",
        "        val_loss = np.sum(-(y_val*np.log(a) + (1-y_val)*np.log(1-a)))\n",
        "        self.val_losses.append((val_loss + self.reg_loss()) / len(y_val))"
      ],
      "execution_count": 0,
      "outputs": []
    },
    {
      "cell_type": "code",
      "metadata": {
        "id": "Rp4G9rVV1dmC",
        "colab_type": "code",
        "colab": {}
      },
      "source": [
        "scaler = StandardScaler()"
      ],
      "execution_count": 0,
      "outputs": []
    },
    {
      "cell_type": "code",
      "metadata": {
        "id": "tTHGzyRE1ggJ",
        "colab_type": "code",
        "colab": {}
      },
      "source": [
        "scaler.fit(x_train)\n",
        "x_train_scaler = scaler.transform(x_train)\n",
        "x_val_scaler = scaler.transform(x_val)"
      ],
      "execution_count": 0,
      "outputs": []
    },
    {
      "cell_type": "code",
      "metadata": {
        "id": "obXR5fGm1z4F",
        "colab_type": "code",
        "outputId": "c4252904-0887-4038-a588-db7793f5f2d4",
        "colab": {
          "base_uri": "https://localhost:8080/",
          "height": 34
        }
      },
      "source": [
        "single_layer = SingleLayer(l2=0.01)\n",
        "single_layer.fit(x_train_scaler, y_train, x_val=x_val_scaler, y_val=y_val, epochs=10000)\n",
        "single_layer.score(x_val_scaler, y_val)"
      ],
      "execution_count": 0,
      "outputs": [
        {
          "output_type": "execute_result",
          "data": {
            "text/plain": [
              "0.978021978021978"
            ]
          },
          "metadata": {
            "tags": []
          },
          "execution_count": 9
        }
      ]
    },
    {
      "cell_type": "code",
      "metadata": {
        "id": "fEvmYxQM26Cc",
        "colab_type": "code",
        "outputId": "16349ce0-ce24-4e7a-802f-ef677e7978d5",
        "colab": {
          "base_uri": "https://localhost:8080/",
          "height": 283
        }
      },
      "source": [
        "plt.ylim(0, 0.3)\n",
        "plt.plot(single_layer.losses)\n",
        "plt.plot(single_layer.val_losses)\n",
        "plt.ylabel('loss')\n",
        "plt.xlabel('epoch')\n",
        "plt.legend(['train_loss', 'val_loss'])\n",
        "plt.show()"
      ],
      "execution_count": 0,
      "outputs": [
        {
          "output_type": "display_data",
          "data": {
            "image/png": "[encoded data removed]",
            "text/plain": [
              "<Figure size 432x288 with 1 Axes>"
            ]
          },
          "metadata": {
            "tags": []
          }
        }
      ]
    },
    {
      "cell_type": "code",
      "metadata": {
        "id": "7r0TAD_t3QXn",
        "colab_type": "code",
        "outputId": "ae54b203-0525-45ce-b213-4b188be29e63",
        "colab": {
          "base_uri": "https://localhost:8080/",
          "height": 279
        }
      },
      "source": [
        "w2 = []\n",
        "w3 = []\n",
        "for w in single_layer.w_history:\n",
        "    w2.append(w[2])\n",
        "    w3.append(w[3])\n",
        "plt.plot(w2, w3)\n",
        "plt.plot(w2[-1], w3[-1], 'ro')\n",
        "plt.xlabel('w[2]')\n",
        "plt.ylabel('w[3]')\n",
        "plt.show()"
      ],
      "execution_count": 0,
      "outputs": [
        {
          "output_type": "display_data",
          "data": {
            "image/png": "[encoded data removed]",
            "text/plain": [
              "<Figure size 432x288 with 1 Axes>"
            ]
          },
          "metadata": {
            "tags": []
          }
        }
      ]
    },
    {
      "cell_type": "code",
      "metadata": {
        "id": "2X_P-JEH3Sqa",
        "colab_type": "code",
        "colab": {}
      },
      "source": [
        "class DualLayer(SingleLayer):\n",
        "  def __init__(self, units=10, learning_rate=0.1, l1=0, l2=0):\n",
        "    self.units = units         # 은닉층의 뉴런 개수\n",
        "    self.w1 = None             # 은닉층의 가중치\n",
        "    self.b1 = None             # 은닉층의 절편\n",
        "    self.w2 = None             # 출력층의 가중치\n",
        "    self.b2 = None             # 출력층의 절편\n",
        "    self.a1 = None             # 은닉층의 활성화 출력\n",
        "    self.losses = []           # 훈련 손실\n",
        "    self.val_losses = []       # 검증 손실\n",
        "    self.lr = learning_rate    # 학습률\n",
        "    self.l1 = l1               # L1 손실 하이퍼파라미터\n",
        "    self.l2 = l2               # L2 손실 하이퍼파라미터\n",
        "\n",
        "  def forpass(self, x):\n",
        "    z1 = np.dot(x, self.w1) + self.b1        # 첫 번째 층의 선형 식을 계산합니다\n",
        "    self.a1 = self.activation(z1)            # 활성화 함수를 적용합니다\n",
        "    z2 = np.dot(self.a1, self.w2) + self.b2  # 두 번째 층의 선형 식을 계산합니다.\n",
        "    return z2\n",
        "\n",
        "  def backprop(self, x, err):\n",
        "    m = len(x)       # 샘플 개수\n",
        "    # 출력층의 가중치와 절편에 대한 그래디언트를 계산합니다.\n",
        "    w2_grad = np.dot(self.a1.T, err) / m\n",
        "    b2_grad = np.sum(err) / m\n",
        "    # 시그모이드 함수까지 그래디언트를 계산합니다.\n",
        "    err_to_hidden = np.dot(err, self.w2.T) * self.a1 * (1 - self.a1)\n",
        "    # 은닉층의 가중치와 절편에 대한 그래디언트를 계산합니다.\n",
        "    w1_grad = np.dot(x.T, err_to_hidden) / m\n",
        "    b1_grad = np.sum(err_to_hidden, axis=0) / m\n",
        "    return w1_grad, b1_grad, w2_grad, b2_grad\n",
        "\n",
        "  def init_weights(self, n_features):\n",
        "    self.w1 = np.ones((n_features, self.units))  # (특성 개수, 은닉층의 크기)\n",
        "    self.b1 = np.zeros(self.units)               # 은닉층의 크기\n",
        "    self.w2 = np.ones((self.units, 1))           # (은닉층의 크기, 1)\n",
        "    self.b2 = 0\n",
        "    \n",
        "  def fit(self, x, y, epochs=100, x_val=None, y_val=None):\n",
        "    y = y.reshape(-1, 1)          # 타깃을 열 벡터로 바꿉니다.\n",
        "    y_val = y_val.reshape(-1, 1)\n",
        "    m = len(x)                    # 샘플 개수를 저장합니다.\n",
        "    self.init_weights(x.shape[1]) # 은닉층과 출력층의 가중치를 초기화합니다.\n",
        "    # epochs만큼 반복합니다.\n",
        "    for i in range(epochs):\n",
        "        a = self.training(x, y, m)\n",
        "        # 안전한 로그 계산을 위해 클리핑합니다.\n",
        "        a = np.clip(a, 1e-10, 1-1e-10)\n",
        "        # 로그 손실과 규제 손실을 더하여 리스트에 추가합니다.\n",
        "        loss = np.sum(-(y*np.log(a) + (1-y)*np.log(1-a)))\n",
        "        self.losses.append((loss + self.reg_loss()) / m)\n",
        "        # 검증 세트에 대한 손실을 계산합니다.\n",
        "        self.update_val_loss(x_val, y_val)\n",
        "          \n",
        "  def training(self, x, y, m):\n",
        "    z = self.forpass(x)       # 정방향 계산을 수행합니다.\n",
        "    a = self.activation(z)    # 활성화 함수를 적용합니다.\n",
        "    err = -(y - a)            # 오차를 계산합니다.\n",
        "    # 오차를 역전파하여 그래디언트를 계산합니다.\n",
        "    w1_grad, b1_grad, w2_grad, b2_grad = self.backprop(x, err)\n",
        "    # 그래디언트에서 페널티 항의 미분 값을 뺍니다\n",
        "    w1_grad += (self.l1 * np.sign(self.w1) + self.l2 * self.w1) / m\n",
        "    w2_grad += (self.l1 * np.sign(self.w2) + self.l2 * self.w2) / m\n",
        "    # 은닉층의 가중치와 절편을 업데이트합니다.\n",
        "    self.w1 -= self.lr * w1_grad\n",
        "    self.b1 -= self.lr * b1_grad\n",
        "    # 출력층의 가중치와 절편을 업데이트합니다.\n",
        "    self.w2 -= self.lr * w2_grad\n",
        "    self.b2 -= self.lr * b2_grad\n",
        "    return a\n",
        "\n",
        "  def reg_loss(self):\n",
        "    # 은닉층과 출력층의 가중치에 규제를 적용합니다.\n",
        "    return self.l1 * (np.sum(np.abs(self.w1)) + np.sum(np.abs(self.w2))) + \\\n",
        "            self.l2 / 2 * (np.sum(self.w1**2) + np.sum(self.w2**2))"
      ],
      "execution_count": 0,
      "outputs": []
    },
    {
      "cell_type": "code",
      "metadata": {
        "id": "kAuQHrrnIN1e",
        "colab_type": "code",
        "outputId": "6bb24964-2f2d-4196-beae-445fece19f26",
        "colab": {
          "base_uri": "https://localhost:8080/",
          "height": 34
        }
      },
      "source": [
        "dual_layer = DualLayer(l2=0.01)\n",
        "dual_layer.fit(x_train_scaler, y_train, \n",
        "               x_val=x_val_scaler, y_val=y_val, epochs=20000)\n",
        "dual_layer.score(x_val_scaler, y_val)"
      ],
      "execution_count": 0,
      "outputs": [
        {
          "output_type": "execute_result",
          "data": {
            "text/plain": [
              "0.978021978021978"
            ]
          },
          "metadata": {
            "tags": []
          },
          "execution_count": 15
        }
      ]
    },
    {
      "cell_type": "code",
      "metadata": {
        "id": "A-0DESbrK5uU",
        "colab_type": "code",
        "outputId": "49ca0277-c41c-46ac-acc4-2b207b25091d",
        "colab": {
          "base_uri": "https://localhost:8080/",
          "height": 279
        }
      },
      "source": [
        "plt.plot(dual_layer.losses)\n",
        "plt.plot(dual_layer.val_losses)\n",
        "plt.ylabel('loss')\n",
        "plt.xlabel('epoch')\n",
        "plt.legend(['train_loss', 'val_loss'])\n",
        "plt.show()"
      ],
      "execution_count": 0,
      "outputs": [
        {
          "output_type": "display_data",
          "data": {
            "image/png": "[encoded data removed]",
            "text/plain": [
              "<Figure size 432x288 with 1 Axes>"
            ]
          },
          "metadata": {
            "tags": []
          }
        }
      ]
    },
    {
      "cell_type": "code",
      "metadata": {
        "id": "ylREN1TZLJua",
        "colab_type": "code",
        "colab": {}
      },
      "source": [
        "class RandomInitNetwork(DualLayer):\n",
        "    \n",
        "  def init_weights(self, n_features):\n",
        "      np.random.seed(42)\n",
        "      self.w1 = np.random.normal(0, 1, \n",
        "                                  (n_features, self.units))  # (특성 개수, 은닉층의 크기)\n",
        "      self.b1 = np.zeros(self.units)                        # 은닉층의 크기\n",
        "      self.w2 = np.random.normal(0, 1, \n",
        "                                  (self.units, 1))           # (은닉층의 크기, 1)\n",
        "      self.b2 = 0"
      ],
      "execution_count": 0,
      "outputs": []
    },
    {
      "cell_type": "code",
      "metadata": {
        "id": "GFp5TqkKLOQk",
        "colab_type": "code",
        "colab": {}
      },
      "source": [
        "random_init_net = RandomInitNetwork(l2=0.01)\n",
        "random_init_net.fit(x_train_scaler, y_train,\n",
        "                    x_val=x_val_scaler, y_val=y_val, epochs=500)"
      ],
      "execution_count": 0,
      "outputs": []
    },
    {
      "cell_type": "code",
      "metadata": {
        "id": "nNY2qBFGLQX9",
        "colab_type": "code",
        "outputId": "194ebee8-0ade-422d-9b7f-0ed95f028f7f",
        "colab": {
          "base_uri": "https://localhost:8080/",
          "height": 279
        }
      },
      "source": [
        "\n",
        "plt.plot(random_init_net.losses)\n",
        "plt.plot(random_init_net.val_losses)\n",
        "plt.ylabel('loss')\n",
        "plt.xlabel('epoch')\n",
        "plt.legend(['train_loss', 'val_loss'])\n",
        "plt.show()"
      ],
      "execution_count": 0,
      "outputs": [
        {
          "output_type": "display_data",
          "data": {
            "image/png": "[encoded data removed]",
            "text/plain": [
              "<Figure size 432x288 with 1 Axes>"
            ]
          },
          "metadata": {
            "tags": []
          }
        }
      ]
    },
    {
      "cell_type": "code",
      "metadata": {
        "id": "zSD2cZuZLVCI",
        "colab_type": "code",
        "colab": {}
      },
      "source": [
        ""
      ],
      "execution_count": 0,
      "outputs": []
    }
  ]
}